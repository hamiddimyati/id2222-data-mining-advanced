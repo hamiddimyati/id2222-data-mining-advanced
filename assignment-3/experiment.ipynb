{
 "cells": [
  {
   "cell_type": "code",
   "execution_count": 1,
   "metadata": {},
   "outputs": [],
   "source": [
    "import numpy as np\n",
    "import pandas as pd\n",
    "import random\n",
    "from collections import defaultdict"
   ]
  },
  {
   "cell_type": "code",
   "execution_count": 2,
   "metadata": {},
   "outputs": [
    {
     "data": {
      "text/html": [
       "<div>\n",
       "<style scoped>\n",
       "    .dataframe tbody tr th:only-of-type {\n",
       "        vertical-align: middle;\n",
       "    }\n",
       "\n",
       "    .dataframe tbody tr th {\n",
       "        vertical-align: top;\n",
       "    }\n",
       "\n",
       "    .dataframe thead th {\n",
       "        text-align: right;\n",
       "    }\n",
       "</style>\n",
       "<table border=\"1\" class=\"dataframe\">\n",
       "  <thead>\n",
       "    <tr style=\"text-align: right;\">\n",
       "      <th></th>\n",
       "      <th>id_1</th>\n",
       "      <th>id_2</th>\n",
       "    </tr>\n",
       "  </thead>\n",
       "  <tbody>\n",
       "    <tr>\n",
       "      <th>0</th>\n",
       "      <td>0</td>\n",
       "      <td>23977</td>\n",
       "    </tr>\n",
       "    <tr>\n",
       "      <th>1</th>\n",
       "      <td>1</td>\n",
       "      <td>34526</td>\n",
       "    </tr>\n",
       "    <tr>\n",
       "      <th>2</th>\n",
       "      <td>1</td>\n",
       "      <td>2370</td>\n",
       "    </tr>\n",
       "    <tr>\n",
       "      <th>3</th>\n",
       "      <td>1</td>\n",
       "      <td>14683</td>\n",
       "    </tr>\n",
       "    <tr>\n",
       "      <th>4</th>\n",
       "      <td>1</td>\n",
       "      <td>29982</td>\n",
       "    </tr>\n",
       "    <tr>\n",
       "      <th>...</th>\n",
       "      <td>...</td>\n",
       "      <td>...</td>\n",
       "    </tr>\n",
       "    <tr>\n",
       "      <th>288998</th>\n",
       "      <td>37527</td>\n",
       "      <td>37596</td>\n",
       "    </tr>\n",
       "    <tr>\n",
       "      <th>288999</th>\n",
       "      <td>37529</td>\n",
       "      <td>37601</td>\n",
       "    </tr>\n",
       "    <tr>\n",
       "      <th>289000</th>\n",
       "      <td>37644</td>\n",
       "      <td>2347</td>\n",
       "    </tr>\n",
       "    <tr>\n",
       "      <th>289001</th>\n",
       "      <td>25879</td>\n",
       "      <td>2347</td>\n",
       "    </tr>\n",
       "    <tr>\n",
       "      <th>289002</th>\n",
       "      <td>25616</td>\n",
       "      <td>2347</td>\n",
       "    </tr>\n",
       "  </tbody>\n",
       "</table>\n",
       "<p>289003 rows × 2 columns</p>\n",
       "</div>"
      ],
      "text/plain": [
       "         id_1   id_2\n",
       "0           0  23977\n",
       "1           1  34526\n",
       "2           1   2370\n",
       "3           1  14683\n",
       "4           1  29982\n",
       "...       ...    ...\n",
       "288998  37527  37596\n",
       "288999  37529  37601\n",
       "289000  37644   2347\n",
       "289001  25879   2347\n",
       "289002  25616   2347\n",
       "\n",
       "[289003 rows x 2 columns]"
      ]
     },
     "execution_count": 2,
     "metadata": {},
     "output_type": "execute_result"
    }
   ],
   "source": [
    "edges = pd.read_csv('data/musae_git_edges.csv')\n",
    "edges"
   ]
  },
  {
   "cell_type": "code",
   "execution_count": 3,
   "metadata": {},
   "outputs": [],
   "source": [
    "class edges:\n",
    "    def __init__(self):\n",
    "        self.edge_list = set()\n",
    "        self.neighbour_list = {}\n",
    "        self.n_edges = 0\n",
    "        \n",
    "    def insert(self, u, v):\n",
    "        if u in self.neighbour_list.keys():\n",
    "            self.neighbour_list[u].append(v)\n",
    "        else:\n",
    "            self.neighbour_list[u] = [v]\n",
    "        \n",
    "        if v in self.neighbour_list.keys():\n",
    "            self.neighbour_list[v].append(u)\n",
    "        else:\n",
    "            self.neighbour_list[v] = [u]\n",
    "        \n",
    "        self.edge_list.add((u,v))\n",
    "        self.n_edges += 1\n",
    "        \n",
    "    def delete(self, u, v):\n",
    "        self.neighbour_list[u].remove(v)\n",
    "        neighbour_u = self.neighbour_list[u]\n",
    "        if len(neighbour_u) == 0:\n",
    "            del self.neighbour_list[u]\n",
    "\n",
    "        self.neighbour_list[v].remove(u)\n",
    "        neighbour_v = self.neighbour_list[v]\n",
    "        if len(neighbour_v) == 0:\n",
    "            del self.neighbour_list[v]\n",
    "\n",
    "        self.edge_list.remove((u,v))\n",
    "        self.n_edges -= 1\n",
    "        \n",
    "    def get_neighbours(self,u):\n",
    "        return self.neighbour_list[u]\n",
    "\n",
    "    def get_n_edges(self):\n",
    "        return self.n_edges\n",
    "\n",
    "    def get_n_vertices(self):\n",
    "        return len(self.neighbour_list)\n",
    "\n",
    "    def get_vertices(self):\n",
    "        return self.neighbour_list.keys()\n",
    "\n",
    "    def get_edges(self):\n",
    "        return list(self.edge_list)"
   ]
  },
  {
   "cell_type": "code",
   "execution_count": 4,
   "metadata": {},
   "outputs": [],
   "source": [
    "class triestBase:\n",
    "    def __init__(self, memory):\n",
    "        self.memory = memory\n",
    "        self.S = edges()\n",
    "        self.global_counter = 0\n",
    "        self.local_counter = defaultdict(lambda:0)\n",
    "        \n",
    "    def fit(self, graph_streaming):\n",
    "        t = 0\n",
    "        with open(graph_streaming) as f:\n",
    "            next(f)\n",
    "            lines = f.read().splitlines()\n",
    "            for line in lines:\n",
    "                u, v = sorted([int(e) for e in line.split(',')])\n",
    "                t += 1\n",
    "                if self.sample(t, u, v):\n",
    "                    self.S.insert(u, v)\n",
    "                    self.update_counter('+', u, v)\n",
    "                '''print(\"t: {}\".format(t))#---------------------------------------------------------------------------------\n",
    "                print(\"list edges: {}\".format(self.S.edge_list))\n",
    "                print(\"total edges: {}\".format(self.S.n_edges))\n",
    "                print(\"all neighrbours: {}\".format(self.S.neighbour_list))\n",
    "                print(\"global T: {}\".format(self.global_counter))\n",
    "                print(\"local T: {}\".format(self.local_counter))'''\n",
    "                    \n",
    "        global_triangles = self.estimate_global_counter(t)\n",
    "        \n",
    "        return int(global_triangles)\n",
    "                \n",
    "    def sample(self, t, u, v):\n",
    "        if t <= self.memory:\n",
    "            return True\n",
    "        else:\n",
    "            if self.flip_coin(t):\n",
    "                n_edges = self.S.get_n_edges()\n",
    "                index = random.randint(0, n_edges-1)\n",
    "                u, v = random.sample(self.S.edge_list, 1)[0]\n",
    "                self.S.delete(u,v)\n",
    "                self.update_counter('-', u, v)\n",
    "                return True\n",
    "            else:\n",
    "                return False\n",
    "            \n",
    "    def flip_coin(self, t):\n",
    "        p_head = self.memory/t\n",
    "        p = random.random()\n",
    "        if p <= p_head:\n",
    "            return True\n",
    "        else:\n",
    "            return False\n",
    "        \n",
    "    def update_counter(self, operation, u, v):\n",
    "        vertices = self.S.get_vertices()\n",
    "        if (u not in vertices) or (v not in vertices):\n",
    "            return\n",
    "        u_neighbours = self.S.get_neighbours(u)\n",
    "        v_neighbours = self.S.get_neighbours(v)\n",
    "        \n",
    "        shared_neighbours = list(set(u_neighbours) & set(v_neighbours))\n",
    "        n_shared_neighbours = len(shared_neighbours)\n",
    "        \n",
    "        if n_shared_neighbours == 0:\n",
    "            return\n",
    "        \n",
    "        if operation == '+':\n",
    "            self.global_counter +=  n_shared_neighbours\n",
    "            self.local_counter[u] +=  n_shared_neighbours\n",
    "            self.local_counter[v] +=  n_shared_neighbours\n",
    "\n",
    "            for c in shared_neighbours:\n",
    "                self.local_counter[c] += 1\n",
    "        \n",
    "        if operation == '-':\n",
    "            self.global_counter -= n_shared_neighbours\n",
    "\n",
    "            self.local_counter[u] -= n_shared_neighbours\n",
    "            if self.local_counter[u] == 0:\n",
    "                del self.local_counter[u]\n",
    "\n",
    "            self.local_counter[v] -= n_shared_neighbours\n",
    "            if self.local_counter[v] == 0:\n",
    "                del self.local_counter[v]\n",
    "\n",
    "            for c in shared_neighbours:\n",
    "                self.local_counter[c] -= 1\n",
    "            if self.local_counter[c] == 0:\n",
    "                del self.local_counter[c]\n",
    "                \n",
    "    def estimate_global_counter(self, t):\n",
    "        M = self.memory\n",
    "        estimator = np.max([1, (t*(t-1)*(t-2))/(M*(M-1)*(M-2))])\n",
    "        return estimator * self.global_counter"
   ]
  },
  {
   "cell_type": "code",
   "execution_count": 5,
   "metadata": {},
   "outputs": [],
   "source": [
    "class triestImprove:\n",
    "    def __init__(self, memory):\n",
    "        self.memory = memory\n",
    "        self.S = edges()\n",
    "        self.global_counter = 0\n",
    "        self.local_counter = defaultdict(lambda:0)\n",
    "        self.t = 0\n",
    "        \n",
    "    def fit(self, graph_streaming):\n",
    "        #t = 0\n",
    "        with open(graph_streaming) as f:\n",
    "            next(f)\n",
    "            lines = f.read().splitlines()\n",
    "            for line in lines:\n",
    "                u, v = sorted([int(e) for e in line.split(',')])\n",
    "                self.t += 1\n",
    "                #changes #1: moving update_counter before if block \n",
    "                self.update_counter('+', u, v)\n",
    "                if self.sample(self.t, u, v):\n",
    "                    self.S.insert(u, v)\n",
    "                    #self.update_counter('+', u, v)\n",
    "                '''print(\"t: {}\".format(self.t))#---------------------------------------------------------------------------------\n",
    "                print(\"list edges: {}\".format(self.S.edge_list))\n",
    "                print(\"total edges: {}\".format(self.S.n_edges))\n",
    "                print(\"all neighrbours: {}\".format(self.S.neighbour_list))\n",
    "                print(\"global T: {}\".format(self.global_counter))\n",
    "                print(\"local T: {}\".format(self.local_counter))'''\n",
    "                    \n",
    "        #global_triangles = self.estimate_global_counter(t)\n",
    "        global_triangles = self.global_counter\n",
    "        \n",
    "        return float(global_triangles)\n",
    "                \n",
    "    def sample(self, t, u, v):\n",
    "        if self.t <= self.memory:\n",
    "            return True\n",
    "        else:\n",
    "            if self.flip_coin(t):\n",
    "                n_edges = self.S.get_n_edges()\n",
    "                index = random.randint(0, n_edges-1)\n",
    "                u, v = random.sample(self.S.edge_list, 1)[0]\n",
    "                self.S.delete(u,v)\n",
    "                #changes #2: removing update_counter when an edge is removed from S \n",
    "                #self.update_counter('-', u, v)\n",
    "                return True\n",
    "            else:\n",
    "                return False\n",
    "            \n",
    "    def flip_coin(self, t):\n",
    "        p_head = self.memory/t\n",
    "        p = random.random()\n",
    "        if p <= p_head:\n",
    "            return True\n",
    "        else:\n",
    "            return False\n",
    "        \n",
    "    def update_counter(self, operation, u, v):\n",
    "        vertices = self.S.get_vertices()\n",
    "        if (u not in vertices) or (v not in vertices):\n",
    "            return\n",
    "        u_neighbours = self.S.get_neighbours(u)\n",
    "        v_neighbours = self.S.get_neighbours(v)\n",
    "        \n",
    "        shared_neighbours = list(set(u_neighbours) & set(v_neighbours))\n",
    "        n_shared_neighbours = len(shared_neighbours)\n",
    "        \n",
    "        if n_shared_neighbours == 0:\n",
    "            return\n",
    "        \n",
    "        if operation == '+':\n",
    "            self.global_counter +=  n_shared_neighbours\n",
    "            self.local_counter[u] +=  n_shared_neighbours\n",
    "            self.local_counter[v] +=  n_shared_neighbours\n",
    "\n",
    "            for c in shared_neighbours:\n",
    "                #changes #3: performs a weighted increase of the counters \n",
    "                #self.local_counter[c] += 1\n",
    "                self.local_counter[c] += int(max(1, ((self.t - 1) * (self.t - 2)) / (self.memory * (self.memory - 1))))\n",
    "        \n",
    "        '''if operation == '-':\n",
    "            self.global_counter -= n_shared_neighbours\n",
    "\n",
    "            self.local_counter[u] -= n_shared_neighbours\n",
    "            if self.local_counter[u] == 0:\n",
    "                del self.local_counter[u]\n",
    "\n",
    "            self.local_counter[v] -= n_shared_neighbours\n",
    "            if self.local_counter[v] == 0:\n",
    "                del self.local_counter[v]\n",
    "\n",
    "            for c in shared_neighbours:\n",
    "                self.local_counter[c] -= 1\n",
    "            if self.local_counter[c] == 0:\n",
    "                del self.local_counter[c]'''\n",
    "                \n",
    "    '''def estimate_global_counter(self, t):\n",
    "        M = self.memory\n",
    "        estimator = np.max([1, (t*(t-1)*(t-2))/(M*(M-1)*(M-2))])\n",
    "        return estimator * self.global_counter'''"
   ]
  },
  {
   "cell_type": "code",
   "execution_count": 6,
   "metadata": {},
   "outputs": [],
   "source": [
    "if __name__ == '__main__':\n",
    "    random.seed(333)\n",
    "    filename = 'data/dummy.csv'\n",
    "    \n",
    "    graph_streaming = triestImprove(7)\n",
    "    global_triangles = graph_streaming.fit(filename)\n",
    "    \n",
    "    global_triangles"
   ]
  },
  {
   "cell_type": "code",
   "execution_count": 7,
   "metadata": {},
   "outputs": [
    {
     "data": {
      "text/plain": [
       "6.0"
      ]
     },
     "execution_count": 7,
     "metadata": {},
     "output_type": "execute_result"
    }
   ],
   "source": [
    "global_triangles"
   ]
  },
  {
   "cell_type": "code",
   "execution_count": 8,
   "metadata": {},
   "outputs": [],
   "source": [
    "if __name__ == '__main__':\n",
    "    random.seed(333)\n",
    "    filename = 'data/dummy.csv'\n",
    "    \n",
    "    graph_streaming = triestBase(7)\n",
    "    global_triangles = graph_streaming.fit(filename)\n",
    "    \n",
    "    global_triangles"
   ]
  },
  {
   "cell_type": "code",
   "execution_count": 9,
   "metadata": {},
   "outputs": [
    {
     "data": {
      "text/plain": [
       "6"
      ]
     },
     "execution_count": 9,
     "metadata": {},
     "output_type": "execute_result"
    }
   ],
   "source": [
    "global_triangles"
   ]
  },
  {
   "cell_type": "code",
   "execution_count": 10,
   "metadata": {},
   "outputs": [],
   "source": [
    "if __name__ == '__main__':\n",
    "    random.seed(333)\n",
    "    filename = 'data/musae_git_edges.csv'\n",
    "    \n",
    "    graph_streaming = triestImprove(10000)\n",
    "    global_triangles = graph_streaming.fit(filename)"
   ]
  },
  {
   "cell_type": "code",
   "execution_count": 11,
   "metadata": {},
   "outputs": [
    {
     "data": {
      "text/plain": [
       "5340.0"
      ]
     },
     "execution_count": 11,
     "metadata": {},
     "output_type": "execute_result"
    }
   ],
   "source": [
    "# M = 10000\n",
    "global_triangles"
   ]
  },
  {
   "cell_type": "code",
   "execution_count": 12,
   "metadata": {},
   "outputs": [],
   "source": [
    "if __name__ == '__main__':\n",
    "    random.seed(333)\n",
    "    filename = 'data/musae_git_edges.csv'\n",
    "    \n",
    "    graph_streaming = triestBase(10000)\n",
    "    global_triangles = graph_streaming.fit(filename)"
   ]
  },
  {
   "cell_type": "code",
   "execution_count": 13,
   "metadata": {},
   "outputs": [
    {
     "data": {
      "text/plain": [
       "362179"
      ]
     },
     "execution_count": 13,
     "metadata": {},
     "output_type": "execute_result"
    }
   ],
   "source": [
    "# M = 10000\n",
    "global_triangles"
   ]
  },
  {
   "cell_type": "code",
   "execution_count": 14,
   "metadata": {},
   "outputs": [],
   "source": [
    "if __name__ == '__main__':\n",
    "    random.seed(333)\n",
    "    filename = 'data/musae_git_edges.csv'\n",
    "    \n",
    "    graph_streaming = triestImprove(100000)\n",
    "    global_triangles = graph_streaming.fit(filename)"
   ]
  },
  {
   "cell_type": "code",
   "execution_count": 15,
   "metadata": {},
   "outputs": [
    {
     "data": {
      "text/plain": [
       "184877.0"
      ]
     },
     "execution_count": 15,
     "metadata": {},
     "output_type": "execute_result"
    }
   ],
   "source": [
    "# M = 100000\n",
    "global_triangles"
   ]
  },
  {
   "cell_type": "code",
   "execution_count": 16,
   "metadata": {},
   "outputs": [],
   "source": [
    "if __name__ == '__main__':\n",
    "    random.seed(333)\n",
    "    filename = 'data/musae_git_edges.csv'\n",
    "    \n",
    "    graph_streaming = triestBase(100000)\n",
    "    global_triangles = graph_streaming.fit(filename)"
   ]
  },
  {
   "cell_type": "code",
   "execution_count": 17,
   "metadata": {},
   "outputs": [
    {
     "data": {
      "text/plain": [
       "519128"
      ]
     },
     "execution_count": 17,
     "metadata": {},
     "output_type": "execute_result"
    }
   ],
   "source": [
    "# M = 100000\n",
    "global_triangles"
   ]
  },
  {
   "cell_type": "code",
   "execution_count": 18,
   "metadata": {},
   "outputs": [],
   "source": [
    "if __name__ == '__main__':\n",
    "    random.seed(333)\n",
    "    filename = 'data/musae_git_edges.csv'\n",
    "    \n",
    "    graph_streaming = triestImprove(289003)\n",
    "    global_triangles = graph_streaming.fit(filename)"
   ]
  },
  {
   "cell_type": "code",
   "execution_count": 19,
   "metadata": {},
   "outputs": [
    {
     "data": {
      "text/plain": [
       "523810.0"
      ]
     },
     "execution_count": 19,
     "metadata": {},
     "output_type": "execute_result"
    }
   ],
   "source": [
    "# Ground truth\n",
    "global_triangles"
   ]
  },
  {
   "cell_type": "code",
   "execution_count": 20,
   "metadata": {},
   "outputs": [],
   "source": [
    "if __name__ == '__main__':\n",
    "    random.seed(333)\n",
    "    filename = 'data/musae_git_edges.csv'\n",
    "    \n",
    "    graph_streaming = triestBase(289003)\n",
    "    global_triangles = graph_streaming.fit(filename)"
   ]
  },
  {
   "cell_type": "code",
   "execution_count": 21,
   "metadata": {},
   "outputs": [
    {
     "data": {
      "text/plain": [
       "523810"
      ]
     },
     "execution_count": 21,
     "metadata": {},
     "output_type": "execute_result"
    }
   ],
   "source": [
    "# Ground truth\n",
    "global_triangles"
   ]
  },
  {
   "cell_type": "code",
   "execution_count": null,
   "metadata": {},
   "outputs": [],
   "source": []
  }
 ],
 "metadata": {
  "kernelspec": {
   "display_name": "Python 3",
   "language": "python",
   "name": "python3"
  },
  "language_info": {
   "codemirror_mode": {
    "name": "ipython",
    "version": 3
   },
   "file_extension": ".py",
   "mimetype": "text/x-python",
   "name": "python",
   "nbconvert_exporter": "python",
   "pygments_lexer": "ipython3",
   "version": "3.7.3"
  }
 },
 "nbformat": 4,
 "nbformat_minor": 4
}
