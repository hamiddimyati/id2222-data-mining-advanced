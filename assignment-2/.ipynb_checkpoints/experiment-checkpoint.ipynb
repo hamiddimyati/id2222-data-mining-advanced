{
 "cells": [
  {
   "cell_type": "code",
   "execution_count": 1,
   "metadata": {},
   "outputs": [],
   "source": [
    "import numpy as np\n",
    "import pandas as pd\n",
    "from itertools import permutations, combinations\n",
    "from collections import Counter\n",
    "import time"
   ]
  },
  {
   "cell_type": "code",
   "execution_count": 2,
   "metadata": {},
   "outputs": [],
   "source": [
    "min_support = 1000\n",
    "filename = 'data/T10I4D100K.dat'"
   ]
  },
  {
   "cell_type": "code",
   "execution_count": 3,
   "metadata": {},
   "outputs": [],
   "source": [
    "def loadTransactions(filename):\n",
    "    transactions = []\n",
    "    with open(filename) as f:\n",
    "        lines = f.readlines()\n",
    "        for line in lines:\n",
    "            transaction = line.rstrip().split(\" \")\n",
    "            items = [int(item) for item in transaction]\n",
    "            transactions.append(items)\n",
    "    return transactions"
   ]
  },
  {
   "cell_type": "code",
   "execution_count": 4,
   "metadata": {},
   "outputs": [],
   "source": [
    "def getItemsets(transactions, min_support):\n",
    "    Cs_k = Counter(item for items in transactions for item in set(items))\n",
    "    Ls_k = {key: Cs_k[key] for key in Cs_k if Cs_k[key] > min_support}\n",
    "    L_k = [key for key in Ls_k]\n",
    "    \n",
    "    return Ls_k, L_k"
   ]
  },
  {
   "cell_type": "code",
   "execution_count": 5,
   "metadata": {},
   "outputs": [],
   "source": [
    "def filterPairs(pair, k, L_k):\n",
    "    subset = set([p if k > 2 else p[0] for p in combinations(pair, k-1)])\n",
    "    superset = set(L_k)\n",
    "    return subset.issubset(superset)"
   ]
  },
  {
   "cell_type": "code",
   "execution_count": 6,
   "metadata": {},
   "outputs": [],
   "source": [
    "def newTransactions(transactions_master, k, L_k):\n",
    "    transactions_k = []\n",
    "    for transaction in transactions_master:\n",
    "        pairs = list(combinations(transaction, k))\n",
    "        candidates = [pair for pair in pairs if filterPairs(pair, k, L_k)]\n",
    "        transactions_k.append(candidates)\n",
    "    \n",
    "    return transactions_k"
   ]
  },
  {
   "cell_type": "code",
   "execution_count": 7,
   "metadata": {},
   "outputs": [
    {
     "name": "stdout",
     "output_type": "stream",
     "text": [
      "136.48\n"
     ]
    }
   ],
   "source": [
    "start = time.time()\n",
    "transactions = loadTransactions(filename)\n",
    "final_itemsets = {}\n",
    "Ls_1, L_1 = getItemsets(transactions, min_support)\n",
    "Ls_1 = sorted(Ls_1.items())\n",
    "final_itemsets.update(Ls_1)\n",
    "L_k = L_1\n",
    "k = 2\n",
    "while len(L_k) > 0:\n",
    "    transactions_k = newTransactions(transactions, k, L_k)\n",
    "    Ls_k, L_k = getItemsets(transactions_k, min_support)\n",
    "    Ls_k = sorted(Ls_k.items())\n",
    "    final_itemsets.update(Ls_k)\n",
    "    k += 1\n",
    "print(round(time.time() - start, 2))"
   ]
  },
  {
   "cell_type": "code",
   "execution_count": 8,
   "metadata": {},
   "outputs": [
    {
     "data": {
      "text/plain": [
       "385"
      ]
     },
     "execution_count": 8,
     "metadata": {},
     "output_type": "execute_result"
    }
   ],
   "source": [
    "len(final_itemsets)"
   ]
  },
  {
   "cell_type": "code",
   "execution_count": 17,
   "metadata": {},
   "outputs": [
    {
     "data": {
      "text/plain": [
       "5.2836689038031315"
      ]
     },
     "execution_count": 17,
     "metadata": {},
     "output_type": "execute_result"
    }
   ],
   "source": [
    "118.09/22.35"
   ]
  },
  {
   "cell_type": "markdown",
   "metadata": {},
   "source": [
    "### DataFrame way"
   ]
  },
  {
   "cell_type": "code",
   "execution_count": 8,
   "metadata": {},
   "outputs": [],
   "source": [
    "def getItemsets(transactions, min_support):\n",
    "    Cs_k = Counter(item for items in transactions for item in set(items))\n",
    "    Ls_k = {key: Cs_k[key] for key in Cs_k if Cs_k[key] > min_support}\n",
    "    L_k = [key for key in Ls_k]\n",
    "    \n",
    "    return Ls_k, L_k"
   ]
  },
  {
   "cell_type": "code",
   "execution_count": 9,
   "metadata": {},
   "outputs": [],
   "source": [
    "def filterPairs(pair, k, L_k):\n",
    "    subset = set([p if k > 2 else p[0] for p in combinations(pair, k-1)])\n",
    "    superset = set(L_k)\n",
    "    return subset.issubset(superset)"
   ]
  },
  {
   "cell_type": "code",
   "execution_count": 12,
   "metadata": {},
   "outputs": [],
   "source": [
    "def newTransactions(df, k, L_k):\n",
    "    df['combinations'] = df['itemsets'].apply(lambda x: list(combinations(x, k)))\n",
    "    df['combinations0'] = df['combinations'].apply(lambda x: [pair for pair in x if filterPairs(pair, k, L_k)])\n",
    "    transactions_k = data['combinations0'].tolist()\n",
    "    \n",
    "    return transactions_k"
   ]
  },
  {
   "cell_type": "code",
   "execution_count": 15,
   "metadata": {},
   "outputs": [
    {
     "name": "stdout",
     "output_type": "stream",
     "text": [
      "152.62\n"
     ]
    }
   ],
   "source": [
    "start = time.time()\n",
    "# Load dataframe\n",
    "data = pd.read_csv(filename, header=None)\n",
    "data = data.rename(columns={0:'itemsets'})\n",
    "data['itemsets'] = data['itemsets'].str.rstrip()\n",
    "data['itemsets'] = data['itemsets'].str.split(\" \")\n",
    "\n",
    "# Get frequent itemsets\n",
    "transactions = data['itemsets'].tolist()\n",
    "final_itemsets = {}\n",
    "Ls_1, L_1 = getItemsets(transactions, min_support)\n",
    "Ls_1 = sorted(Ls_1.items())\n",
    "final_itemsets.update(Ls_1)\n",
    "L_k = L_1\n",
    "k = 2\n",
    "while len(L_k) > 0:\n",
    "    transactions_k = newTransactions(data, k, L_k)\n",
    "    Ls_k, L_k = getItemsets(transactions_k, min_support)\n",
    "    Ls_k = sorted(Ls_k.items())\n",
    "    final_itemsets.update(Ls_k)\n",
    "    k += 1\n",
    "print(round(time.time() - start, 2))"
   ]
  },
  {
   "cell_type": "code",
   "execution_count": 15,
   "metadata": {},
   "outputs": [
    {
     "data": {
      "text/plain": [
       "385"
      ]
     },
     "execution_count": 15,
     "metadata": {},
     "output_type": "execute_result"
    }
   ],
   "source": [
    "len(final_itemsets)"
   ]
  },
  {
   "cell_type": "code",
   "execution_count": null,
   "metadata": {},
   "outputs": [],
   "source": []
  }
 ],
 "metadata": {
  "kernelspec": {
   "display_name": "Python 3",
   "language": "python",
   "name": "python3"
  },
  "language_info": {
   "codemirror_mode": {
    "name": "ipython",
    "version": 3
   },
   "file_extension": ".py",
   "mimetype": "text/x-python",
   "name": "python",
   "nbconvert_exporter": "python",
   "pygments_lexer": "ipython3",
   "version": "3.7.3"
  }
 },
 "nbformat": 4,
 "nbformat_minor": 4
}
